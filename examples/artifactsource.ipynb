{
 "cells": [
  {
   "cell_type": "code",
   "execution_count": null,
   "id": "647c3bd1",
   "metadata": {},
   "outputs": [],
   "source": [
    "import cinemasci\n",
    "\n",
    "# create an artifact source\n",
    "artifactSource = cinemasci.TestImageArtifactSource();\n",
    "\n",
    "# provide input parameters and save the resulting images\n",
    "artifactSource.inputs[\"Parameters\"].setValue( {'phi': 25.5, 'theta': 50.0} );\n",
    "images = artifactSource.outputs[\"Artifacts\"].getValue();\n",
    "\n",
    "# look at them\n",
    "for i in images:\n",
    "    display(i)\n"
   ]
  },
  {
   "cell_type": "code",
   "execution_count": null,
   "id": "2c9b3859",
   "metadata": {},
   "outputs": [],
   "source": []
  }
 ],
 "metadata": {
  "kernelspec": {
   "display_name": "Python 3 (ipykernel)",
   "language": "python",
   "name": "python3"
  },
  "language_info": {
   "codemirror_mode": {
    "name": "ipython",
    "version": 3
   },
   "file_extension": ".py",
   "mimetype": "text/x-python",
   "name": "python",
   "nbconvert_exporter": "python",
   "pygments_lexer": "ipython3",
   "version": "3.9.10"
  }
 },
 "nbformat": 4,
 "nbformat_minor": 5
}
