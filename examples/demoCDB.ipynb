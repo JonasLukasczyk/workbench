{
 "cells": [
  {
   "cell_type": "code",
   "execution_count": null,
   "id": "647c3bd1",
   "metadata": {},
   "outputs": [],
   "source": [
    "import cinemasci\n",
    "\n",
    "demo = cinemasci.DemoCDB()\n",
    "demo.inputs.Resolution.set((512,512),False)\n",
    "demo.inputs.PhiSamples.set((45,360,20),False)\n",
    "demo.inputs.ThetaSamples.set((20,20,45),False)\n",
    "demo.inputs.Time.set(0.1)\n",
    "\n",
    "import PIL\n",
    "images = demo.outputs.Images.get();\n",
    "for i in images:    \n",
    "    display(PIL.Image.fromarray(i.channel[\"RGB\"]))"
   ]
  },
  {
   "cell_type": "code",
   "execution_count": null,
   "id": "2c9b3859",
   "metadata": {},
   "outputs": [],
   "source": [
    "\n"
   ]
  }
 ],
 "metadata": {
  "kernelspec": {
   "display_name": "Python 3 (ipykernel)",
   "language": "python",
   "name": "python3"
  },
  "language_info": {
   "codemirror_mode": {
    "name": "ipython",
    "version": 3
   },
   "file_extension": ".py",
   "mimetype": "text/x-python",
   "name": "python",
   "nbconvert_exporter": "python",
   "pygments_lexer": "ipython3",
   "version": "3.10.4"
  }
 },
 "nbformat": 4,
 "nbformat_minor": 5
}
