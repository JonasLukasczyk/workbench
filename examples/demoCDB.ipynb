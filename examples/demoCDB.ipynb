{
 "cells": [
  {
   "cell_type": "code",
   "execution_count": null,
   "id": "647c3bd1",
   "metadata": {},
   "outputs": [],
   "source": [
    "import cinemasci\n",
    "\n",
    "demo = cinemasci.DemoCDB()\n",
    "demo.inputs[\"Resolution\"].setValue((512,512),False)\n",
    "demo.inputs[\"PhiSamples\"].setValue((45,360,20),False)\n",
    "demo.inputs[\"ThetaSamples\"].setValue((20,20,45),False)\n",
    "demo.inputs[\"Time\"].setValue(0.1)\n",
    "\n",
    "images = demo.outputs[\"Images\"].getValue();\n",
    "for i in images:\n",
    "    display(i)"
   ]
  },
  {
   "cell_type": "code",
   "execution_count": null,
   "id": "2c9b3859",
   "metadata": {},
   "outputs": [],
   "source": [
    "\n"
   ]
  }
 ],
 "metadata": {
  "kernelspec": {
   "display_name": "Python 3 (ipykernel)",
   "language": "python",
   "name": "python3"
  },
  "language_info": {
   "codemirror_mode": {
    "name": "ipython",
    "version": 3
   },
   "file_extension": ".py",
   "mimetype": "text/x-python",
   "name": "python",
   "nbconvert_exporter": "python",
   "pygments_lexer": "ipython3",
   "version": "3.9.10"
  }
 },
 "nbformat": 4,
 "nbformat_minor": 5
}
