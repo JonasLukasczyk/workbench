{
 "cells": [
  {
   "cell_type": "code",
   "execution_count": null,
   "id": "aa0c806d",
   "metadata": {},
   "outputs": [],
   "source": [
    "import cinemasci\n",
    "import matplotlib\n",
    "\n",
    "# Open Cinema Database\n",
    "cdb  = cinemasci.CinemaDatabaseReader();\n",
    "cdb.inputs.Path.set( 'sphere.cdb' );\n",
    "\n",
    "# Select Some Data Products\n",
    "query = cinemasci.DatabaseQuery();\n",
    "query.inputs.Table.set(cdb.outputs.Table);\n",
    "query.inputs.Query.set('SELECT * FROM input LIMIT 1');\n",
    "\n",
    "# Read Data Products\n",
    "imageReader = cinemasci.ImageReader();\n",
    "imageReader.inputs.Table.set(query.outputs.Table);\n",
    "\n",
    "# detect images\n",
    "imageCanny = cinemasci.ImageCanny()\n",
    "imageCanny.inputs.Images.set(imageReader.outputs.Images, False)\n",
    "imageCanny.inputs.Thresholds.set([0,70],False)\n",
    "imageCanny.update()\n",
    "\n",
    "# composite\n",
    "maskCompositing = cinemasci.MaskCompositing()\n",
    "maskCompositing.inputs.Opacity.set(1.0)\n",
    "maskCompositing.inputs.ImagesA.set(imageReader.outputs.Images, False )\n",
    "maskCompositing.inputs.ImagesB.set((0,255,0,255), False )\n",
    "maskCompositing.inputs.Masks.set(imageCanny.outputs.Images, False )\n",
    "maskCompositing.inputs.MaskChannel.set('Canny', False )\n",
    "maskCompositing.update()\n",
    "\n",
    "# Display Results\n",
    "from IPython.display import display\n",
    "images = maskCompositing.outputs.Images.get();\n",
    "for i in range(len(images)):   \n",
    "    image = images[i]\n",
    "    matplotlib.pyplot.imshow(image.channel['RGBA'])\n",
    "    matplotlib.pyplot.show()"
   ]
  },
  {
   "cell_type": "code",
   "execution_count": null,
   "id": "0564f81f",
   "metadata": {},
   "outputs": [],
   "source": []
  }
 ],
 "metadata": {
  "kernelspec": {
   "display_name": "Python 3 (ipykernel)",
   "language": "python",
   "name": "python3"
  },
  "language_info": {
   "codemirror_mode": {
    "name": "ipython",
    "version": 3
   },
   "file_extension": ".py",
   "mimetype": "text/x-python",
   "name": "python",
   "nbconvert_exporter": "python",
   "pygments_lexer": "ipython3",
   "version": "3.9.10"
  }
 },
 "nbformat": 4,
 "nbformat_minor": 5
}
