{
 "cells": [
  {
   "cell_type": "code",
   "execution_count": null,
   "id": "0b1d7e8c",
   "metadata": {},
   "outputs": [],
   "source": [
    "import pycinema\n",
    "import PIL\n",
    "import numpy as np\n",
    "from matplotlib import pyplot\n",
    "\n",
    "## Create the instance of the filter\n",
    "mlfilter = pycinema.ImageGeneratorCNN()\n",
    "\n",
    "## Input trained model file\n",
    "mlfilter.inputs.Model.set('testing/gold/artifact/MLModels/Model_MLImageGenerator_Isabel_timevarying_2000.pth',False)\n",
    "mlfilter.inputs.Device.set('cpu',False)\n",
    "## Phi,Theta, Timestep value for which the image will be generated\n",
    "mlfilter.inputs.Params.set([[-10,5.0,3]],False)\n",
    "## number of input parameter in training set, in this case, 2 (phi and theta)\n",
    "mlfilter.inputs.VP.set(3,False)\n",
    "## Internal parameter for CNN, should be the same as was used during training\n",
    "mlfilter.inputs.VPO.set(256,False)\n",
    "## Internal parameter for CNN, should be the same as was used during training\n",
    "mlfilter.inputs.Channel.set(8,False)\n",
    "\n",
    "# Add annotation\n",
    "annotation = pycinema.Annotation()\n",
    "annotation.inputs.Images.set(mlfilter.outputs.Images,False)\n",
    "annotation.inputs.Color.set((255,0,0))\n",
    "annotation.inputs.Ignore.set(['FILE', 'Time', 'Phi', 'Theta'])\n",
    "annotation.inputs.Size.set(10)\n",
    "annotation.inputs.XY.set((5,5))\n",
    "\n",
    "# update the pipeline\n",
    "mlfilter.update()\n",
    "\n",
    "# show the generated images\n",
    "images = annotation.outputs.Images.get();\n",
    "for i in range(len(images)):\n",
    "    image = images[i]\n",
    "    pyplot.imshow(image.channel['RGBA'])\n",
    "    pyplot.axis('off')\n",
    "    pyplot.show()"
   ]
  },
  {
   "cell_type": "code",
   "execution_count": null,
   "id": "696c7e18",
   "metadata": {},
   "outputs": [],
   "source": []
  }
 ],
 "metadata": {
  "kernelspec": {
   "display_name": "Python 3 (ipykernel)",
   "language": "python",
   "name": "python3"
  },
  "language_info": {
   "codemirror_mode": {
    "name": "ipython",
    "version": 3
   },
   "file_extension": ".py",
   "mimetype": "text/x-python",
   "name": "python",
   "nbconvert_exporter": "python",
   "pygments_lexer": "ipython3",
   "version": "3.9.10"
  }
 },
 "nbformat": 4,
 "nbformat_minor": 5
}
