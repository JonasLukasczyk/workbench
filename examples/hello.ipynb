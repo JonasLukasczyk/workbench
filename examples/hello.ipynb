{
 "cells": [
  {
   "cell_type": "code",
   "execution_count": null,
   "id": "647c3bd1",
   "metadata": {},
   "outputs": [],
   "source": [
    "import cinemasci\n",
    "\n",
    "# Open Cinema Database\n",
    "cdb  = cinemasci.DatabaseReader();\n",
    "cdb.inputs[\"Path\"].setValue( 'cinema.cdb' );\n",
    "\n",
    "# Select Some Data Products\n",
    "query = cinemasci.DatabaseQuery();\n",
    "query.inputs[\"Table\"].setValue(cdb.outputs['Table']);\n",
    "query.inputs[\"Query\"].setValue('SELECT * FROM input LIMIT 5 OFFSET 0');\n",
    "\n",
    "# Read Data Products\n",
    "imageReader = cinemasci.ImageReader();\n",
    "imageReader.inputs[\"Table\"].setValue(query.outputs['Table']);\n",
    "\n",
    "# Render Images in Black and White (to demo shader effects)\n",
    "imageRenderer = cinemasci.ImageRenderer();\n",
    "imageRenderer.inputs[\"Image\"].setValue( imageReader.outputs[\"Images\"] );\n",
    "\n",
    "# Display Results\n",
    "from IPython.display import display\n",
    "images = imageRenderer.outputs[\"Image\"].getValue();\n",
    "for i in images:\n",
    "    display(i)"
   ]
  }
 ],
 "metadata": {
  "kernelspec": {
   "display_name": "Python 3 (ipykernel)",
   "language": "python",
   "name": "python3"
  },
  "language_info": {
   "codemirror_mode": {
    "name": "ipython",
    "version": 3
   },
   "file_extension": ".py",
   "mimetype": "text/x-python",
   "name": "python",
   "nbconvert_exporter": "python",
   "pygments_lexer": "ipython3",
   "version": "3.9.10"
  }
 },
 "nbformat": 4,
 "nbformat_minor": 5
}
