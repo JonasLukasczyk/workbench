{
 "cells": [
  {
   "cell_type": "code",
   "execution_count": null,
   "id": "7b31faa7",
   "metadata": {},
   "outputs": [],
   "source": [
    "import cinemasci\n",
    "import numpy\n",
    "\n",
    "# create 3x3 pixel image with an rgb and a scalar channel\n",
    "image = cinemasci.Image()\n",
    "image.channel['RGB'] = numpy.array(\n",
    "    [\n",
    "        255,0,0,  255,0,0,  255,0,0, # three pixels of the first row (each pixel has an rgb value)\n",
    "        0,255,0,  0,255,0,  0,255,0, # three pixels of the second row\n",
    "        0,0,255,  0,0,255,  0,0,255  # three pixels of the third row\n",
    "    ],\n",
    "    dtype=numpy.uint8 # data type of the pixels are 8bit unsigned integers\n",
    ").reshape( (3,3,3) )  # 3x3 pixels with 3 values for each pixel\n",
    "\n",
    "image.channel['SomeScalar'] = numpy.array(\n",
    "    [\n",
    "        0.0, 0.0, 1.0, # three pixels of the first row (each pixel has one scalar value)\n",
    "        0.0, 0.5, 1.0, # three pixels of the second row\n",
    "        0.0, 0.0, 1.0  # three pixels of the third row\n",
    "    ],\n",
    "    dtype=numpy.float32 # data type of the pixels are 32bit floats\n",
    ").reshape( (3,3,1) )    # 3x3 pixels with one value for each pixel\n",
    "\n",
    "# display channels\n",
    "from matplotlib import pyplot\n",
    "fig = pyplot.figure()\n",
    "fig.add_subplot(1, 2, 1)\n",
    "pyplot.imshow(image.channel['RGB'])\n",
    "fig.add_subplot(1, 2, 2)\n",
    "pyplot.imshow(image.channel['SomeScalar'], interpolation='nearest', cmap='gray')"
   ]
  },
  {
   "cell_type": "code",
   "execution_count": null,
   "id": "899bb596",
   "metadata": {},
   "outputs": [],
   "source": [
    "import cinemasci\n",
    "demo = cinemasci.DemoCDB()\n",
    "demo.inputs.Resolution.set((512,512),False)\n",
    "demo.inputs.PhiSamples.set((45,360,45),False)\n",
    "demo.inputs.ThetaSamples.set((20,20,45),False)\n",
    "demo.inputs.Time.set(0.5)\n",
    "\n",
    "annotation = cinemasci.Annotation()\n",
    "annotation.inputs.Color.set( (255,255,255), False )\n",
    "annotation.inputs.Size.set( 30, False )\n",
    "annotation.inputs.XY.set( (0,0), False )\n",
    "annotation.inputs.Spacing.set( 20, False )\n",
    "annotation.inputs.Images.set( demo.outputs.Images )\n",
    "\n",
    "import PIL\n",
    "images = annotation.outputs.Images.get();\n",
    "for i in images:\n",
    "    display(PIL.Image.fromarray(i.channel['RGB']))"
   ]
  },
  {
   "cell_type": "code",
   "execution_count": null,
   "id": "96e244b2",
   "metadata": {},
   "outputs": [],
   "source": []
  }
 ],
 "metadata": {
  "kernelspec": {
   "display_name": "Python 3 (ipykernel)",
   "language": "python",
   "name": "python3"
  },
  "language_info": {
   "codemirror_mode": {
    "name": "ipython",
    "version": 3
   },
   "file_extension": ".py",
   "mimetype": "text/x-python",
   "name": "python",
   "nbconvert_exporter": "python",
   "pygments_lexer": "ipython3",
   "version": "3.10.4"
  }
 },
 "nbformat": 4,
 "nbformat_minor": 5
}
