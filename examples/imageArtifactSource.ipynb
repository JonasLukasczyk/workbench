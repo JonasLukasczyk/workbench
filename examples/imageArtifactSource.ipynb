{
 "cells": [
  {
   "cell_type": "code",
   "execution_count": null,
   "id": "647c3bd1",
   "metadata": {},
   "outputs": [],
   "source": [
    "import cinemasci\n",
    "import os\n",
    "\n",
    "#\n",
    "# This example creates and runs an artifact source that generates \n",
    "# images using the parameters provided (just writing text to the image)\n",
    "#\n",
    "\n",
    "# create an artifact source\n",
    "artifactSource = cinemasci.TestImageArtifactSource();\n",
    "\n",
    "# provide input parameters and save the resulting images\n",
    "artifactSource.inputs[\"Parameters\"].setValue( {'phi': 25.5, 'theta': 50.0} );\n",
    "images = artifactSource.outputs[\"Artifacts\"].getValue();\n",
    "\n",
    "# look at them\n",
    "for i in images:\n",
    "    display(i)\n"
   ]
  },
  {
   "cell_type": "code",
   "execution_count": null,
   "id": "2c9b3859",
   "metadata": {},
   "outputs": [],
   "source": [
    "#\n",
    "# This example uses a cinema database under the source to load \n",
    "# images, and (eventually) to find them using the parameters\n",
    "#\n",
    "# At the moment, the rendering is disabled b/c of the shader\n",
    "# issue we are currently solving\n",
    "#\n",
    "\n",
    "# create an artifact source\n",
    "artifactSource = cinemasci.CinemaArtifactSource();\n",
    "artifactSource.path = os.path.join(\"cinema.cdb\")\n",
    "\n",
    "# provide input parameters and save the resulting images\n",
    "artifactSource.inputs[\"Parameters\"].setValue( {'phi': 10.0, 'theta': 110.0} );\n",
    "\n",
    "# look at them\n",
    "for i in artifactSource.outputs[\"Artifacts\"].getValue():\n",
    "    display(i)\n"
   ]
  }
 ],
 "metadata": {
  "kernelspec": {
   "display_name": "Python 3 (ipykernel)",
   "language": "python",
   "name": "python3"
  },
  "language_info": {
   "codemirror_mode": {
    "name": "ipython",
    "version": 3
   },
   "file_extension": ".py",
   "mimetype": "text/x-python",
   "name": "python",
   "nbconvert_exporter": "python",
   "pygments_lexer": "ipython3",
   "version": "3.9.10"
  }
 },
 "nbformat": 4,
 "nbformat_minor": 5
}
