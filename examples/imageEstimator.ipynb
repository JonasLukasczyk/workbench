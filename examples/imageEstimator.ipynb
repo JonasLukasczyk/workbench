{
 "cells": [
  {
   "cell_type": "code",
   "execution_count": null,
   "id": "5ac2778e",
   "metadata": {},
   "outputs": [],
   "source": [
    "import pycinema\n",
    "from matplotlib import pyplot\n",
    "\n",
    "estimator = pycinema.ImageEstimator();\n",
    "estimator.inputs.DBPath.set(\"testing/gold/artifact/ML_ImageGenerator_Test.cdb\", False);\n",
    "estimator.inputs.ModelPath.set(\"testing/gold/artifact/MLModels/Model_MLImageGenerator_Isabel_1500.pth\",False);\n",
    "estimator.inputs.Parameters.set([150.192,351.072])\n",
    "# estimator.inputs.Parameters.set([150.0,351.0])\n",
    "\n",
    "# Display Results\n",
    "display = pycinema.Display()\n",
    "display.inputs.Images.set(estimator.outputs.Artifacts)"
   ]
  }
 ],
 "metadata": {
  "kernelspec": {
   "display_name": "Python 3 (ipykernel)",
   "language": "python",
   "name": "python3"
  },
  "language_info": {
   "codemirror_mode": {
    "name": "ipython",
    "version": 3
   },
   "file_extension": ".py",
   "mimetype": "text/x-python",
   "name": "python",
   "nbconvert_exporter": "python",
   "pygments_lexer": "ipython3",
   "version": "3.9.10"
  }
 },
 "nbformat": 4,
 "nbformat_minor": 5
}
