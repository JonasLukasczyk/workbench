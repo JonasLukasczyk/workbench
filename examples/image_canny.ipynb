{
 "cells": [
  {
   "cell_type": "code",
   "execution_count": null,
   "id": "4717694e",
   "metadata": {},
   "outputs": [],
   "source": [
    "import cinemasci\n",
    "import matplotlib\n",
    "\n",
    "# Open Cinema Database\n",
    "cdb  = cinemasci.CinemaDatabaseReader();\n",
    "cdb.inputs.Path.set( 'sphere.cdb' );\n",
    "\n",
    "# Select Some Data Products\n",
    "query = cinemasci.DatabaseQuery();\n",
    "query.inputs.Table.set(cdb.outputs.Table);\n",
    "query.inputs.Query.set('SELECT * FROM input LIMIT 1 OFFSET 0');\n",
    "\n",
    "# Read Data Products\n",
    "imageReader = cinemasci.ImageReader();\n",
    "imageReader.inputs.Table.set(query.outputs.Table);\n",
    "\n",
    "# Run an algorithm on the images\n",
    "imageConvert = cinemasci.ImageConvert();\n",
    "imageConvert.inputs.Conversion.set( cinemasci.ImageConvertType.GREYSCALE );\n",
    "imageConvert.inputs.Images.set( imageReader.outputs.Images );\n",
    "\n",
    "# Run canny algorithm\n",
    "imageCanny = cinemasci.ImageCanny();\n",
    "imageCanny.inputs.Thresholds.set( [100, 150] )\n",
    "imageCanny.inputs.Images.set( imageConvert.outputs.Images );\n",
    "\n",
    "# Display Results\n",
    "from IPython.display import display\n",
    "for image in imageCanny.outputs.Images.get():\n",
    "    matplotlib.pyplot.imshow(image.channel['RGBA'])\n",
    "    matplotlib.pyplot.show()"
   ]
  }
 ],
 "metadata": {
  "kernelspec": {
   "display_name": "Python 3 (ipykernel)",
   "language": "python",
   "name": "python3"
  },
  "language_info": {
   "codemirror_mode": {
    "name": "ipython",
    "version": 3
   },
   "file_extension": ".py",
   "mimetype": "text/x-python",
   "name": "python",
   "nbconvert_exporter": "python",
   "pygments_lexer": "ipython3",
   "version": "3.9.10"
  }
 },
 "nbformat": 4,
 "nbformat_minor": 5
}
