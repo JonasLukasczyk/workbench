{
 "cells": [
  {
   "cell_type": "code",
   "execution_count": null,
   "id": "58d19e04",
   "metadata": {},
   "outputs": [],
   "source": [
    "# This matplotlib magic function is crucial to get better server-client performance\n",
    "%matplotlib notebook\n",
    "\n",
    "import cinemasci\n",
    "\n",
    "# open a cinema database\n",
    "cdb = cinemasci.CinemaDatabaseReader();\n",
    "cdb.inputs.Path.set('/home/jones/external/data/ttk-data/DragonImages.cdb' )\n",
    "\n",
    "# create widgets\n",
    "pw = cinemasci.ParameterWidgets();\n",
    "pw.inputs.Table.set(cdb.outputs.Table)\n",
    "\n",
    "# query data products\n",
    "query = cinemasci.DatabaseQuery();\n",
    "query.inputs.Table.set(cdb.outputs.Table,False);\n",
    "query.inputs.Query.set(pw.outputs.SQL);\n",
    "\n",
    "# read data products\n",
    "imageReader = cinemasci.ImageReader();\n",
    "imageReader.inputs.Table.set(query.outputs.Table)\n",
    "\n",
    "# render data products\n",
    "imageRenderer = cinemasci.ImageRenderer();\n",
    "imageRenderer.inputs.Images.set( imageReader.outputs.Images );\n",
    "\n",
    "imageRenderer2 = cinemasci.ImageRenderer();\n",
    "imageRenderer2.inputs.Images.set( imageRenderer.outputs.Images );\n",
    "\n",
    "# create output viewport\n",
    "imageUI = cinemasci.ImageUI()\n",
    "imageUI.inputs.Images.set( imageRenderer2.outputs.Images )\n",
    "\n",
    "# build UI\n",
    "import ipywidgets as widgets\n",
    "display(imageUI.fig)\n",
    "widgets.HBox(pw.widgets)"
   ]
  },
  {
   "cell_type": "code",
   "execution_count": null,
   "id": "5e53bbb3",
   "metadata": {},
   "outputs": [],
   "source": []
  }
 ],
 "metadata": {
  "kernelspec": {
   "display_name": "Python 3 (ipykernel)",
   "language": "python",
   "name": "python3"
  },
  "language_info": {
   "codemirror_mode": {
    "name": "ipython",
    "version": 3
   },
   "file_extension": ".py",
   "mimetype": "text/x-python",
   "name": "python",
   "nbconvert_exporter": "python",
   "pygments_lexer": "ipython3",
   "version": "3.10.4"
  }
 },
 "nbformat": 4,
 "nbformat_minor": 5
}
