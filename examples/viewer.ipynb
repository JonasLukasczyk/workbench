{
 "cells": [
  {
   "cell_type": "code",
   "execution_count": null,
   "id": "c2748187",
   "metadata": {
    "scrolled": false
   },
   "outputs": [],
   "source": [
    "%matplotlib notebook\n",
    "\n",
    "import pycinema\n",
    "viewer = pycinema.CinemaDatabaseViewer('../data/ScalarImages.cdb')"
   ]
  },
  {
   "cell_type": "code",
   "execution_count": null,
   "id": "5a8368f3-51dc-4e6e-9b13-527b79097e73",
   "metadata": {},
   "outputs": [],
   "source": []
  }
 ],
 "metadata": {
  "kernelspec": {
   "display_name": "Python 3 (ipykernel)",
   "language": "python",
   "name": "python3"
  },
  "language_info": {
   "codemirror_mode": {
    "name": "ipython",
    "version": 3
   },
   "file_extension": ".py",
   "mimetype": "text/x-python",
   "name": "python",
   "nbconvert_exporter": "python",
   "pygments_lexer": "ipython3",
   "version": "3.10.8"
  }
 },
 "nbformat": 4,
 "nbformat_minor": 5
}
